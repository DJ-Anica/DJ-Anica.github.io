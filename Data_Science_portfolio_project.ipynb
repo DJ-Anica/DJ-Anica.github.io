{
  "nbformat": 4,
  "nbformat_minor": 0,
  "metadata": {
    "colab": {
      "name": "Data Science portfolio project.ipynb",
      "provenance": [],
      "authorship_tag": "ABX9TyMxrep2WP7vkYqiW3/0IgRv",
      "include_colab_link": true
    },
    "kernelspec": {
      "name": "python3",
      "display_name": "Python 3"
    },
    "language_info": {
      "name": "python"
    }
  },
  "cells": [
    {
      "cell_type": "markdown",
      "metadata": {
        "id": "view-in-github",
        "colab_type": "text"
      },
      "source": [
        "<a href=\"https://colab.research.google.com/github/DJ-Anica/DJ-Anica.github.io/blob/main/Data_Science_portfolio_project.ipynb\" target=\"_parent\"><img src=\"https://colab.research.google.com/assets/colab-badge.svg\" alt=\"Open In Colab\"/></a>"
      ]
    },
    {
      "cell_type": "markdown",
      "source": [
        "![green-divider](https://user-images.githubusercontent.com/7065401/52071924-c003ad80-2562-11e9-8297-1c6595f8a7ff.png)\n",
        "\n",
        "#       **A demonstration of my Python/Pandas capabilities**\n",
        "\n",
        "---\n",
        "\n",
        "## Queries\n",
        "\n",
        "We'll be using the FIVETHIRTYEIGHT **Police-Killings** dataset, which contains information about police killings that occured in the United States for the year 2016.\n",
        "\n",
        "---\n",
        "\n",
        "\n",
        "![green-divider](https://user-images.githubusercontent.com/7065401/52071924-c003ad80-2562-11e9-8297-1c6595f8a7ff.png)"
      ],
      "metadata": {
        "id": "cl--AFlMaMCB"
      }
    },
    {
      "cell_type": "code",
      "execution_count": null,
      "metadata": {
        "id": "yCvV0yqrYncn"
      },
      "outputs": [],
      "source": [
        "import numpy as np\n",
        "import pandas as pd\n",
        "import matplotlib.pyplot as plt\n",
        "\n",
        "%matplotlib inline"
      ]
    },
    {
      "cell_type": "code",
      "source": [
        "df = pd.read_csv('/content/police-killings-2016.csv')"
      ],
      "metadata": {
        "id": "2YhgM9_V6J-h"
      },
      "execution_count": null,
      "outputs": []
    },
    {
      "cell_type": "markdown",
      "source": [
        "![purple-divider](https://user-images.githubusercontent.com/7065401/52071927-c1cd7100-2562-11e9-908a-dde91ba14e59.png)\n",
        "\n",
        "## Using the .head() function to view the columns"
      ],
      "metadata": {
        "id": "yEYy4dSgasRI"
      }
    },
    {
      "cell_type": "code",
      "source": [
        "df.head()"
      ],
      "metadata": {
        "colab": {
          "base_uri": "https://localhost:8080/",
          "height": 206
        },
        "id": "Ky1dFLrW7tUg",
        "outputId": "9a45e3f3-ec46-4375-bb84-a6370c579944"
      },
      "execution_count": null,
      "outputs": [
        {
          "output_type": "execute_result",
          "data": {
            "text/plain": [
              "       uid           name  age gender raceethnicity    month  day  year  \\\n",
              "0  2016406    Terry Frost   20   Male         Black      May   25  2016   \n",
              "1   201681  Jeffry Graves   62   Male         White  January   31  2016   \n",
              "2    20161  Joshua Sisson   30   Male         White  January    1  2016   \n",
              "3    20163   Sean O'Brien   37   Male         White  January    2  2016   \n",
              "4   201653    Lance Light   54   Male         White  January    2  2016   \n",
              "\n",
              "           streetaddress        city state classification  \\\n",
              "0        2692 Madison Rd  Cincinnati    OH        Gunshot   \n",
              "1  36500 Bridgepointe Dr      Newark    CA        Gunshot   \n",
              "2           4200 6th Ave   San Diego    CA        Gunshot   \n",
              "3      100 Washington St  Livingston    MT        Gunshot   \n",
              "4  I-20 and Texas Hwy 70  Sweetwater    TX        Gunshot   \n",
              "\n",
              "           lawenforcementagency    armed  \n",
              "0  Cincinnati Police Department  Firearm  \n",
              "1      Newark Police Department  Firearm  \n",
              "2   San Diego Police Department    Knife  \n",
              "3  Livingston Police Department    Knife  \n",
              "4  Sweetwater Police Department  Firearm  "
            ],
            "text/html": [
              "\n",
              "  <div id=\"df-121d388c-f731-4a63-8059-605826923bc8\">\n",
              "    <div class=\"colab-df-container\">\n",
              "      <div>\n",
              "<style scoped>\n",
              "    .dataframe tbody tr th:only-of-type {\n",
              "        vertical-align: middle;\n",
              "    }\n",
              "\n",
              "    .dataframe tbody tr th {\n",
              "        vertical-align: top;\n",
              "    }\n",
              "\n",
              "    .dataframe thead th {\n",
              "        text-align: right;\n",
              "    }\n",
              "</style>\n",
              "<table border=\"1\" class=\"dataframe\">\n",
              "  <thead>\n",
              "    <tr style=\"text-align: right;\">\n",
              "      <th></th>\n",
              "      <th>uid</th>\n",
              "      <th>name</th>\n",
              "      <th>age</th>\n",
              "      <th>gender</th>\n",
              "      <th>raceethnicity</th>\n",
              "      <th>month</th>\n",
              "      <th>day</th>\n",
              "      <th>year</th>\n",
              "      <th>streetaddress</th>\n",
              "      <th>city</th>\n",
              "      <th>state</th>\n",
              "      <th>classification</th>\n",
              "      <th>lawenforcementagency</th>\n",
              "      <th>armed</th>\n",
              "    </tr>\n",
              "  </thead>\n",
              "  <tbody>\n",
              "    <tr>\n",
              "      <th>0</th>\n",
              "      <td>2016406</td>\n",
              "      <td>Terry Frost</td>\n",
              "      <td>20</td>\n",
              "      <td>Male</td>\n",
              "      <td>Black</td>\n",
              "      <td>May</td>\n",
              "      <td>25</td>\n",
              "      <td>2016</td>\n",
              "      <td>2692 Madison Rd</td>\n",
              "      <td>Cincinnati</td>\n",
              "      <td>OH</td>\n",
              "      <td>Gunshot</td>\n",
              "      <td>Cincinnati Police Department</td>\n",
              "      <td>Firearm</td>\n",
              "    </tr>\n",
              "    <tr>\n",
              "      <th>1</th>\n",
              "      <td>201681</td>\n",
              "      <td>Jeffry Graves</td>\n",
              "      <td>62</td>\n",
              "      <td>Male</td>\n",
              "      <td>White</td>\n",
              "      <td>January</td>\n",
              "      <td>31</td>\n",
              "      <td>2016</td>\n",
              "      <td>36500 Bridgepointe Dr</td>\n",
              "      <td>Newark</td>\n",
              "      <td>CA</td>\n",
              "      <td>Gunshot</td>\n",
              "      <td>Newark Police Department</td>\n",
              "      <td>Firearm</td>\n",
              "    </tr>\n",
              "    <tr>\n",
              "      <th>2</th>\n",
              "      <td>20161</td>\n",
              "      <td>Joshua Sisson</td>\n",
              "      <td>30</td>\n",
              "      <td>Male</td>\n",
              "      <td>White</td>\n",
              "      <td>January</td>\n",
              "      <td>1</td>\n",
              "      <td>2016</td>\n",
              "      <td>4200 6th Ave</td>\n",
              "      <td>San Diego</td>\n",
              "      <td>CA</td>\n",
              "      <td>Gunshot</td>\n",
              "      <td>San Diego Police Department</td>\n",
              "      <td>Knife</td>\n",
              "    </tr>\n",
              "    <tr>\n",
              "      <th>3</th>\n",
              "      <td>20163</td>\n",
              "      <td>Sean O'Brien</td>\n",
              "      <td>37</td>\n",
              "      <td>Male</td>\n",
              "      <td>White</td>\n",
              "      <td>January</td>\n",
              "      <td>2</td>\n",
              "      <td>2016</td>\n",
              "      <td>100 Washington St</td>\n",
              "      <td>Livingston</td>\n",
              "      <td>MT</td>\n",
              "      <td>Gunshot</td>\n",
              "      <td>Livingston Police Department</td>\n",
              "      <td>Knife</td>\n",
              "    </tr>\n",
              "    <tr>\n",
              "      <th>4</th>\n",
              "      <td>201653</td>\n",
              "      <td>Lance Light</td>\n",
              "      <td>54</td>\n",
              "      <td>Male</td>\n",
              "      <td>White</td>\n",
              "      <td>January</td>\n",
              "      <td>2</td>\n",
              "      <td>2016</td>\n",
              "      <td>I-20 and Texas Hwy 70</td>\n",
              "      <td>Sweetwater</td>\n",
              "      <td>TX</td>\n",
              "      <td>Gunshot</td>\n",
              "      <td>Sweetwater Police Department</td>\n",
              "      <td>Firearm</td>\n",
              "    </tr>\n",
              "  </tbody>\n",
              "</table>\n",
              "</div>\n",
              "      <button class=\"colab-df-convert\" onclick=\"convertToInteractive('df-121d388c-f731-4a63-8059-605826923bc8')\"\n",
              "              title=\"Convert this dataframe to an interactive table.\"\n",
              "              style=\"display:none;\">\n",
              "        \n",
              "  <svg xmlns=\"http://www.w3.org/2000/svg\" height=\"24px\"viewBox=\"0 0 24 24\"\n",
              "       width=\"24px\">\n",
              "    <path d=\"M0 0h24v24H0V0z\" fill=\"none\"/>\n",
              "    <path d=\"M18.56 5.44l.94 2.06.94-2.06 2.06-.94-2.06-.94-.94-2.06-.94 2.06-2.06.94zm-11 1L8.5 8.5l.94-2.06 2.06-.94-2.06-.94L8.5 2.5l-.94 2.06-2.06.94zm10 10l.94 2.06.94-2.06 2.06-.94-2.06-.94-.94-2.06-.94 2.06-2.06.94z\"/><path d=\"M17.41 7.96l-1.37-1.37c-.4-.4-.92-.59-1.43-.59-.52 0-1.04.2-1.43.59L10.3 9.45l-7.72 7.72c-.78.78-.78 2.05 0 2.83L4 21.41c.39.39.9.59 1.41.59.51 0 1.02-.2 1.41-.59l7.78-7.78 2.81-2.81c.8-.78.8-2.07 0-2.86zM5.41 20L4 18.59l7.72-7.72 1.47 1.35L5.41 20z\"/>\n",
              "  </svg>\n",
              "      </button>\n",
              "      \n",
              "  <style>\n",
              "    .colab-df-container {\n",
              "      display:flex;\n",
              "      flex-wrap:wrap;\n",
              "      gap: 12px;\n",
              "    }\n",
              "\n",
              "    .colab-df-convert {\n",
              "      background-color: #E8F0FE;\n",
              "      border: none;\n",
              "      border-radius: 50%;\n",
              "      cursor: pointer;\n",
              "      display: none;\n",
              "      fill: #1967D2;\n",
              "      height: 32px;\n",
              "      padding: 0 0 0 0;\n",
              "      width: 32px;\n",
              "    }\n",
              "\n",
              "    .colab-df-convert:hover {\n",
              "      background-color: #E2EBFA;\n",
              "      box-shadow: 0px 1px 2px rgba(60, 64, 67, 0.3), 0px 1px 3px 1px rgba(60, 64, 67, 0.15);\n",
              "      fill: #174EA6;\n",
              "    }\n",
              "\n",
              "    [theme=dark] .colab-df-convert {\n",
              "      background-color: #3B4455;\n",
              "      fill: #D2E3FC;\n",
              "    }\n",
              "\n",
              "    [theme=dark] .colab-df-convert:hover {\n",
              "      background-color: #434B5C;\n",
              "      box-shadow: 0px 1px 3px 1px rgba(0, 0, 0, 0.15);\n",
              "      filter: drop-shadow(0px 1px 2px rgba(0, 0, 0, 0.3));\n",
              "      fill: #FFFFFF;\n",
              "    }\n",
              "  </style>\n",
              "\n",
              "      <script>\n",
              "        const buttonEl =\n",
              "          document.querySelector('#df-121d388c-f731-4a63-8059-605826923bc8 button.colab-df-convert');\n",
              "        buttonEl.style.display =\n",
              "          google.colab.kernel.accessAllowed ? 'block' : 'none';\n",
              "\n",
              "        async function convertToInteractive(key) {\n",
              "          const element = document.querySelector('#df-121d388c-f731-4a63-8059-605826923bc8');\n",
              "          const dataTable =\n",
              "            await google.colab.kernel.invokeFunction('convertToInteractive',\n",
              "                                                     [key], {});\n",
              "          if (!dataTable) return;\n",
              "\n",
              "          const docLinkHtml = 'Like what you see? Visit the ' +\n",
              "            '<a target=\"_blank\" href=https://colab.research.google.com/notebooks/data_table.ipynb>data table notebook</a>'\n",
              "            + ' to learn more about interactive tables.';\n",
              "          element.innerHTML = '';\n",
              "          dataTable['output_type'] = 'display_data';\n",
              "          await google.colab.output.renderOutput(dataTable, element);\n",
              "          const docLink = document.createElement('div');\n",
              "          docLink.innerHTML = docLinkHtml;\n",
              "          element.appendChild(docLink);\n",
              "        }\n",
              "      </script>\n",
              "    </div>\n",
              "  </div>\n",
              "  "
            ]
          },
          "metadata": {},
          "execution_count": 26
        }
      ]
    },
    {
      "cell_type": "markdown",
      "source": [
        "![purple-divider](https://user-images.githubusercontent.com/7065401/52071927-c1cd7100-2562-11e9-908a-dde91ba14e59.png)\n",
        "\n",
        "## Find total deaths per state\n"
      ],
      "metadata": {
        "id": "8UWu8N9n-xxK"
      }
    },
    {
      "cell_type": "code",
      "source": [
        "df['state'].value_counts()"
      ],
      "metadata": {
        "colab": {
          "base_uri": "https://localhost:8080/"
        },
        "id": "Ae--haNiCRQP",
        "outputId": "709868ea-2dd1-4a4e-ff5a-12aa770b29a2"
      },
      "execution_count": null,
      "outputs": [
        {
          "output_type": "execute_result",
          "data": {
            "text/plain": [
              "CA    161\n",
              "TX     93\n",
              "FL     73\n",
              "AZ     50\n",
              "NC     36\n",
              "CO     32\n",
              "OK     32\n",
              "GA     30\n",
              "IL     29\n",
              "OH     28\n",
              "WA     27\n",
              "AL     27\n",
              "NY     25\n",
              "TN     25\n",
              "PA     24\n",
              "MO     23\n",
              "LA     22\n",
              "NM     22\n",
              "AR     22\n",
              "KY     22\n",
              "IN     20\n",
              "VA     19\n",
              "SC     18\n",
              "WI     18\n",
              "OR     17\n",
              "MI     16\n",
              "MD     16\n",
              "NV     15\n",
              "MA     14\n",
              "MN     14\n",
              "NJ     14\n",
              "WV     13\n",
              "KS     11\n",
              "MS     11\n",
              "NE      8\n",
              "UT      8\n",
              "AK      8\n",
              "HI      7\n",
              "SD      6\n",
              "DC      5\n",
              "MT      5\n",
              "IA      5\n",
              "CT      5\n",
              "ID      5\n",
              "VT      2\n",
              "RI      2\n",
              "ME      2\n",
              "NH      2\n",
              "WY      2\n",
              "ND      1\n",
              "DE      1\n",
              "Name: state, dtype: int64"
            ]
          },
          "metadata": {},
          "execution_count": 27
        }
      ]
    },
    {
      "cell_type": "code",
      "source": [
        "df['state'].value_counts().head(1)"
      ],
      "metadata": {
        "colab": {
          "base_uri": "https://localhost:8080/"
        },
        "id": "E_vIANTrU26I",
        "outputId": "4bd0c741-8d16-4876-bf03-80ebe270311b"
      },
      "execution_count": 51,
      "outputs": [
        {
          "output_type": "execute_result",
          "data": {
            "text/plain": [
              "CA    161\n",
              "Name: state, dtype: int64"
            ]
          },
          "metadata": {},
          "execution_count": 51
        }
      ]
    },
    {
      "cell_type": "markdown",
      "source": [
        "# Graphing the previous results"
      ],
      "metadata": {
        "id": "6-sGHGHNKLHX"
      }
    },
    {
      "cell_type": "code",
      "source": [
        "df['state'].value_counts().plot(kind='bar', title=('Deaths per State'), figsize=(14,6))"
      ],
      "metadata": {
        "colab": {
          "base_uri": "https://localhost:8080/",
          "height": 414
        },
        "id": "YCfvnifZCwo1",
        "outputId": "12b6f6e5-6692-4367-c66b-60f81e521085"
      },
      "execution_count": null,
      "outputs": [
        {
          "output_type": "execute_result",
          "data": {
            "text/plain": [
              "<matplotlib.axes._subplots.AxesSubplot at 0x7f7a5c9909d0>"
            ]
          },
          "metadata": {},
          "execution_count": 28
        },
        {
          "output_type": "display_data",
          "data": {
            "text/plain": [
              "<Figure size 1008x432 with 1 Axes>"
            ],
            "image/png": "[encoded data removed]"
          },
          "metadata": {
            "needs_background": "light"
          }
        }
      ]
    },
    {
      "cell_type": "markdown",
      "source": [
        "![purple-divider](https://user-images.githubusercontent.com/7065401/52071927-c1cd7100-2562-11e9-908a-dde91ba14e59.png)\n",
        "\n",
        "## Find total deaths per month"
      ],
      "metadata": {
        "id": "c3_6Ff2e-3nz"
      }
    },
    {
      "cell_type": "code",
      "source": [
        "df['month'].value_counts()"
      ],
      "metadata": {
        "colab": {
          "base_uri": "https://localhost:8080/"
        },
        "id": "o1yq2w4o8OO3",
        "outputId": "3da3928f-48c7-43be-889c-69ac86582cea"
      },
      "execution_count": null,
      "outputs": [
        {
          "output_type": "execute_result",
          "data": {
            "text/plain": [
              "February     100\n",
              "March        100\n",
              "June         100\n",
              "August        94\n",
              "November      94\n",
              "July          89\n",
              "May           87\n",
              "January       87\n",
              "October       87\n",
              "April         86\n",
              "December      85\n",
              "September     84\n",
              "Name: month, dtype: int64"
            ]
          },
          "metadata": {},
          "execution_count": 29
        }
      ]
    },
    {
      "cell_type": "code",
      "source": [
        "df['month'].value_counts().plot(kind='bar', figsize=(12,5))"
      ],
      "metadata": {
        "colab": {
          "base_uri": "https://localhost:8080/",
          "height": 381
        },
        "id": "cZ2Udyf9DZUS",
        "outputId": "a59945a2-720e-49a1-bd71-a5f6477bcdd5"
      },
      "execution_count": null,
      "outputs": [
        {
          "output_type": "execute_result",
          "data": {
            "text/plain": [
              "<matplotlib.axes._subplots.AxesSubplot at 0x7f7a5c840ed0>"
            ]
          },
          "metadata": {},
          "execution_count": 30
        },
        {
          "output_type": "display_data",
          "data": {
            "text/plain": [
              "<Figure size 864x360 with 1 Axes>"
            ],
            "image/png": "[encoded data removed]"
          },
          "metadata": {
            "needs_background": "light"
          }
        }
      ]
    },
    {
      "cell_type": "markdown",
      "source": [
        "![purple-divider](https://user-images.githubusercontent.com/7065401/52071927-c1cd7100-2562-11e9-908a-dde91ba14e59.png)\n",
        "\n",
        "## Find how many victims were armed/unarmed"
      ],
      "metadata": {
        "id": "LTcOmSm--3Ta"
      }
    },
    {
      "cell_type": "code",
      "source": [
        "df['armed'].value_counts()"
      ],
      "metadata": {
        "colab": {
          "base_uri": "https://localhost:8080/"
        },
        "id": "RaQnoozp9uUl",
        "outputId": "dd44b425-9f1a-45e8-933f-8cb5e4edb3bf"
      },
      "execution_count": null,
      "outputs": [
        {
          "output_type": "execute_result",
          "data": {
            "text/plain": [
              "Firearm               506\n",
              "No                    170\n",
              "Knife                 159\n",
              "Other                  84\n",
              "Unknown                82\n",
              "Non-lethal firearm     46\n",
              "Vehicle                35\n",
              "Disputed               11\n",
              "Name: armed, dtype: int64"
            ]
          },
          "metadata": {},
          "execution_count": 33
        }
      ]
    },
    {
      "cell_type": "code",
      "source": [
        "df.loc[df['armed'] == 'No'].shape[0]"
      ],
      "metadata": {
        "colab": {
          "base_uri": "https://localhost:8080/"
        },
        "id": "6lIy-EbdN8WD",
        "outputId": "98dd8580-5f96-4b3d-c319-f0a70b57b865"
      },
      "execution_count": null,
      "outputs": [
        {
          "output_type": "execute_result",
          "data": {
            "text/plain": [
              "170"
            ]
          },
          "metadata": {},
          "execution_count": 31
        }
      ]
    },
    {
      "cell_type": "code",
      "source": [
        "df['armed'].value_counts('No').plot(kind='pie', title=('Victims: Threat status'), figsize=(6,6))"
      ],
      "metadata": {
        "colab": {
          "base_uri": "https://localhost:8080/",
          "height": 390
        },
        "id": "zn5GfyQQNBBX",
        "outputId": "6a3aa661-ab6c-4f62-9ed2-7bc4d16cf066"
      },
      "execution_count": null,
      "outputs": [
        {
          "output_type": "execute_result",
          "data": {
            "text/plain": [
              "<matplotlib.axes._subplots.AxesSubplot at 0x7f7a5c80f5d0>"
            ]
          },
          "metadata": {},
          "execution_count": 35
        },
        {
          "output_type": "display_data",
          "data": {
            "text/plain": [
              "<Figure size 432x432 with 1 Axes>"
            ],
            "image/png": "[encoded data removed]"
          },
          "metadata": {}
        }
      ]
    },
    {
      "cell_type": "code",
      "source": [
        "df.loc[df['armed'] == 'No']"
      ],
      "metadata": {
        "colab": {
          "base_uri": "https://localhost:8080/",
          "height": 606
        },
        "id": "kMgATTg-OiFZ",
        "outputId": "0e42b2c7-711b-49e6-e00a-e739e7b47056"
      },
      "execution_count": null,
      "outputs": [
        {
          "output_type": "execute_result",
          "data": {
            "text/plain": [
              "           uid            name  age  gender    raceethnicity     month  day  \\\n",
              "10       20167     Joel Nelson   29    Male            White   January    5   \n",
              "24      201620    Alan Bartley   56    Male            White   January   11   \n",
              "25      201621     Ciara Meyer   12  Female            White   January   11   \n",
              "34      201627   Kelsey Hauser   25  Female            White   January   16   \n",
              "47      201640   Daniel Shaver   26    Male            White   January   18   \n",
              "...        ...             ...  ...     ...              ...       ...  ...   \n",
              "1045  20161079    Marlon Lewis   39    Male            Black  December   15   \n",
              "1068  20161058    Jose Sanchez   30    Male  Hispanic/Latino  December   23   \n",
              "1073  20161078    Jesse DeBusk   38    Male            White  December   24   \n",
              "1085  20161095  John Sellinger   34    Male            White  December   28   \n",
              "1092  20161094    Chase Tuseth   33    Male            White  December   31   \n",
              "\n",
              "      year                      streetaddress          city state  \\\n",
              "10    2016                        93rd Ave SE       Olympia    WA   \n",
              "24    2016     San Fernando Rd and Hubbard St  San Fernando    CA   \n",
              "25    2016                         Rebecca Dr     Duncannon    PA   \n",
              "34    2016                    300 S Pierce St      El Cajon    CA   \n",
              "47    2016   6530 E Superstition Springs Blvd          Mesa    AZ   \n",
              "...    ...                                ...           ...   ...   \n",
              "1045  2016               Dewey St and Mayo St         Badin    NC   \n",
              "1068  2016  Fieldcrest Street and Esto Avenue      El Monte    CA   \n",
              "1073  2016                     612 Jameson St   Weatherford    TX   \n",
              "1085  2016            2502 Land O' Lakes Blvd  Land O Lakes    FL   \n",
              "1092  2016                    1900 Premier Dr       Mankato    MN   \n",
              "\n",
              "        classification                               lawenforcementagency  \\\n",
              "10             Gunshot                   Thurston County Sheriff's Office   \n",
              "24             Gunshot                     San Fernando Police Department   \n",
              "25             Gunshot                       Pennsylvania state constable   \n",
              "34             Gunshot                         El Cajon Police Department   \n",
              "47             Gunshot                             Mesa Police Department   \n",
              "...                ...                                                ...   \n",
              "1045             Taser  Badin Police Department, Stanly County Sheriff...   \n",
              "1068           Gunshot                         El Monte Police Department   \n",
              "1073  Death in custody                     Parker County Sheriff's Office   \n",
              "1085             Taser                      Pasco County Sheriff's Office   \n",
              "1092           Gunshot                Mankato Department of Public Safety   \n",
              "\n",
              "     armed  \n",
              "10      No  \n",
              "24      No  \n",
              "25      No  \n",
              "34      No  \n",
              "47      No  \n",
              "...    ...  \n",
              "1045    No  \n",
              "1068    No  \n",
              "1073    No  \n",
              "1085    No  \n",
              "1092    No  \n",
              "\n",
              "[170 rows x 14 columns]"
            ],
            "text/html": [
              "\n",
              "  <div id=\"df-a901fac9-9b4c-47c2-a1fe-425c51566e48\">\n",
              "    <div class=\"colab-df-container\">\n",
              "      <div>\n",
              "<style scoped>\n",
              "    .dataframe tbody tr th:only-of-type {\n",
              "        vertical-align: middle;\n",
              "    }\n",
              "\n",
              "    .dataframe tbody tr th {\n",
              "        vertical-align: top;\n",
              "    }\n",
              "\n",
              "    .dataframe thead th {\n",
              "        text-align: right;\n",
              "    }\n",
              "</style>\n",
              "<table border=\"1\" class=\"dataframe\">\n",
              "  <thead>\n",
              "    <tr style=\"text-align: right;\">\n",
              "      <th></th>\n",
              "      <th>uid</th>\n",
              "      <th>name</th>\n",
              "      <th>age</th>\n",
              "      <th>gender</th>\n",
              "      <th>raceethnicity</th>\n",
              "      <th>month</th>\n",
              "      <th>day</th>\n",
              "      <th>year</th>\n",
              "      <th>streetaddress</th>\n",
              "      <th>city</th>\n",
              "      <th>state</th>\n",
              "      <th>classification</th>\n",
              "      <th>lawenforcementagency</th>\n",
              "      <th>armed</th>\n",
              "    </tr>\n",
              "  </thead>\n",
              "  <tbody>\n",
              "    <tr>\n",
              "      <th>10</th>\n",
              "      <td>20167</td>\n",
              "      <td>Joel Nelson</td>\n",
              "      <td>29</td>\n",
              "      <td>Male</td>\n",
              "      <td>White</td>\n",
              "      <td>January</td>\n",
              "      <td>5</td>\n",
              "      <td>2016</td>\n",
              "      <td>93rd Ave SE</td>\n",
              "      <td>Olympia</td>\n",
              "      <td>WA</td>\n",
              "      <td>Gunshot</td>\n",
              "      <td>Thurston County Sheriff's Office</td>\n",
              "      <td>No</td>\n",
              "    </tr>\n",
              "    <tr>\n",
              "      <th>24</th>\n",
              "      <td>201620</td>\n",
              "      <td>Alan Bartley</td>\n",
              "      <td>56</td>\n",
              "      <td>Male</td>\n",
              "      <td>White</td>\n",
              "      <td>January</td>\n",
              "      <td>11</td>\n",
              "      <td>2016</td>\n",
              "      <td>San Fernando Rd and Hubbard St</td>\n",
              "      <td>San Fernando</td>\n",
              "      <td>CA</td>\n",
              "      <td>Gunshot</td>\n",
              "      <td>San Fernando Police Department</td>\n",
              "      <td>No</td>\n",
              "    </tr>\n",
              "    <tr>\n",
              "      <th>25</th>\n",
              "      <td>201621</td>\n",
              "      <td>Ciara Meyer</td>\n",
              "      <td>12</td>\n",
              "      <td>Female</td>\n",
              "      <td>White</td>\n",
              "      <td>January</td>\n",
              "      <td>11</td>\n",
              "      <td>2016</td>\n",
              "      <td>Rebecca Dr</td>\n",
              "      <td>Duncannon</td>\n",
              "      <td>PA</td>\n",
              "      <td>Gunshot</td>\n",
              "      <td>Pennsylvania state constable</td>\n",
              "      <td>No</td>\n",
              "    </tr>\n",
              "    <tr>\n",
              "      <th>34</th>\n",
              "      <td>201627</td>\n",
              "      <td>Kelsey Hauser</td>\n",
              "      <td>25</td>\n",
              "      <td>Female</td>\n",
              "      <td>White</td>\n",
              "      <td>January</td>\n",
              "      <td>16</td>\n",
              "      <td>2016</td>\n",
              "      <td>300 S Pierce St</td>\n",
              "      <td>El Cajon</td>\n",
              "      <td>CA</td>\n",
              "      <td>Gunshot</td>\n",
              "      <td>El Cajon Police Department</td>\n",
              "      <td>No</td>\n",
              "    </tr>\n",
              "    <tr>\n",
              "      <th>47</th>\n",
              "      <td>201640</td>\n",
              "      <td>Daniel Shaver</td>\n",
              "      <td>26</td>\n",
              "      <td>Male</td>\n",
              "      <td>White</td>\n",
              "      <td>January</td>\n",
              "      <td>18</td>\n",
              "      <td>2016</td>\n",
              "      <td>6530 E Superstition Springs Blvd</td>\n",
              "      <td>Mesa</td>\n",
              "      <td>AZ</td>\n",
              "      <td>Gunshot</td>\n",
              "      <td>Mesa Police Department</td>\n",
              "      <td>No</td>\n",
              "    </tr>\n",
              "    <tr>\n",
              "      <th>...</th>\n",
              "      <td>...</td>\n",
              "      <td>...</td>\n",
              "      <td>...</td>\n",
              "      <td>...</td>\n",
              "      <td>...</td>\n",
              "      <td>...</td>\n",
              "      <td>...</td>\n",
              "      <td>...</td>\n",
              "      <td>...</td>\n",
              "      <td>...</td>\n",
              "      <td>...</td>\n",
              "      <td>...</td>\n",
              "      <td>...</td>\n",
              "      <td>...</td>\n",
              "    </tr>\n",
              "    <tr>\n",
              "      <th>1045</th>\n",
              "      <td>20161079</td>\n",
              "      <td>Marlon Lewis</td>\n",
              "      <td>39</td>\n",
              "      <td>Male</td>\n",
              "      <td>Black</td>\n",
              "      <td>December</td>\n",
              "      <td>15</td>\n",
              "      <td>2016</td>\n",
              "      <td>Dewey St and Mayo St</td>\n",
              "      <td>Badin</td>\n",
              "      <td>NC</td>\n",
              "      <td>Taser</td>\n",
              "      <td>Badin Police Department, Stanly County Sheriff...</td>\n",
              "      <td>No</td>\n",
              "    </tr>\n",
              "    <tr>\n",
              "      <th>1068</th>\n",
              "      <td>20161058</td>\n",
              "      <td>Jose Sanchez</td>\n",
              "      <td>30</td>\n",
              "      <td>Male</td>\n",
              "      <td>Hispanic/Latino</td>\n",
              "      <td>December</td>\n",
              "      <td>23</td>\n",
              "      <td>2016</td>\n",
              "      <td>Fieldcrest Street and Esto Avenue</td>\n",
              "      <td>El Monte</td>\n",
              "      <td>CA</td>\n",
              "      <td>Gunshot</td>\n",
              "      <td>El Monte Police Department</td>\n",
              "      <td>No</td>\n",
              "    </tr>\n",
              "    <tr>\n",
              "      <th>1073</th>\n",
              "      <td>20161078</td>\n",
              "      <td>Jesse DeBusk</td>\n",
              "      <td>38</td>\n",
              "      <td>Male</td>\n",
              "      <td>White</td>\n",
              "      <td>December</td>\n",
              "      <td>24</td>\n",
              "      <td>2016</td>\n",
              "      <td>612 Jameson St</td>\n",
              "      <td>Weatherford</td>\n",
              "      <td>TX</td>\n",
              "      <td>Death in custody</td>\n",
              "      <td>Parker County Sheriff's Office</td>\n",
              "      <td>No</td>\n",
              "    </tr>\n",
              "    <tr>\n",
              "      <th>1085</th>\n",
              "      <td>20161095</td>\n",
              "      <td>John Sellinger</td>\n",
              "      <td>34</td>\n",
              "      <td>Male</td>\n",
              "      <td>White</td>\n",
              "      <td>December</td>\n",
              "      <td>28</td>\n",
              "      <td>2016</td>\n",
              "      <td>2502 Land O' Lakes Blvd</td>\n",
              "      <td>Land O Lakes</td>\n",
              "      <td>FL</td>\n",
              "      <td>Taser</td>\n",
              "      <td>Pasco County Sheriff's Office</td>\n",
              "      <td>No</td>\n",
              "    </tr>\n",
              "    <tr>\n",
              "      <th>1092</th>\n",
              "      <td>20161094</td>\n",
              "      <td>Chase Tuseth</td>\n",
              "      <td>33</td>\n",
              "      <td>Male</td>\n",
              "      <td>White</td>\n",
              "      <td>December</td>\n",
              "      <td>31</td>\n",
              "      <td>2016</td>\n",
              "      <td>1900 Premier Dr</td>\n",
              "      <td>Mankato</td>\n",
              "      <td>MN</td>\n",
              "      <td>Gunshot</td>\n",
              "      <td>Mankato Department of Public Safety</td>\n",
              "      <td>No</td>\n",
              "    </tr>\n",
              "  </tbody>\n",
              "</table>\n",
              "<p>170 rows × 14 columns</p>\n",
              "</div>\n",
              "      <button class=\"colab-df-convert\" onclick=\"convertToInteractive('df-a901fac9-9b4c-47c2-a1fe-425c51566e48')\"\n",
              "              title=\"Convert this dataframe to an interactive table.\"\n",
              "              style=\"display:none;\">\n",
              "        \n",
              "  <svg xmlns=\"http://www.w3.org/2000/svg\" height=\"24px\"viewBox=\"0 0 24 24\"\n",
              "       width=\"24px\">\n",
              "    <path d=\"M0 0h24v24H0V0z\" fill=\"none\"/>\n",
              "    <path d=\"M18.56 5.44l.94 2.06.94-2.06 2.06-.94-2.06-.94-.94-2.06-.94 2.06-2.06.94zm-11 1L8.5 8.5l.94-2.06 2.06-.94-2.06-.94L8.5 2.5l-.94 2.06-2.06.94zm10 10l.94 2.06.94-2.06 2.06-.94-2.06-.94-.94-2.06-.94 2.06-2.06.94z\"/><path d=\"M17.41 7.96l-1.37-1.37c-.4-.4-.92-.59-1.43-.59-.52 0-1.04.2-1.43.59L10.3 9.45l-7.72 7.72c-.78.78-.78 2.05 0 2.83L4 21.41c.39.39.9.59 1.41.59.51 0 1.02-.2 1.41-.59l7.78-7.78 2.81-2.81c.8-.78.8-2.07 0-2.86zM5.41 20L4 18.59l7.72-7.72 1.47 1.35L5.41 20z\"/>\n",
              "  </svg>\n",
              "      </button>\n",
              "      \n",
              "  <style>\n",
              "    .colab-df-container {\n",
              "      display:flex;\n",
              "      flex-wrap:wrap;\n",
              "      gap: 12px;\n",
              "    }\n",
              "\n",
              "    .colab-df-convert {\n",
              "      background-color: #E8F0FE;\n",
              "      border: none;\n",
              "      border-radius: 50%;\n",
              "      cursor: pointer;\n",
              "      display: none;\n",
              "      fill: #1967D2;\n",
              "      height: 32px;\n",
              "      padding: 0 0 0 0;\n",
              "      width: 32px;\n",
              "    }\n",
              "\n",
              "    .colab-df-convert:hover {\n",
              "      background-color: #E2EBFA;\n",
              "      box-shadow: 0px 1px 2px rgba(60, 64, 67, 0.3), 0px 1px 3px 1px rgba(60, 64, 67, 0.15);\n",
              "      fill: #174EA6;\n",
              "    }\n",
              "\n",
              "    [theme=dark] .colab-df-convert {\n",
              "      background-color: #3B4455;\n",
              "      fill: #D2E3FC;\n",
              "    }\n",
              "\n",
              "    [theme=dark] .colab-df-convert:hover {\n",
              "      background-color: #434B5C;\n",
              "      box-shadow: 0px 1px 3px 1px rgba(0, 0, 0, 0.15);\n",
              "      filter: drop-shadow(0px 1px 2px rgba(0, 0, 0, 0.3));\n",
              "      fill: #FFFFFF;\n",
              "    }\n",
              "  </style>\n",
              "\n",
              "      <script>\n",
              "        const buttonEl =\n",
              "          document.querySelector('#df-a901fac9-9b4c-47c2-a1fe-425c51566e48 button.colab-df-convert');\n",
              "        buttonEl.style.display =\n",
              "          google.colab.kernel.accessAllowed ? 'block' : 'none';\n",
              "\n",
              "        async function convertToInteractive(key) {\n",
              "          const element = document.querySelector('#df-a901fac9-9b4c-47c2-a1fe-425c51566e48');\n",
              "          const dataTable =\n",
              "            await google.colab.kernel.invokeFunction('convertToInteractive',\n",
              "                                                     [key], {});\n",
              "          if (!dataTable) return;\n",
              "\n",
              "          const docLinkHtml = 'Like what you see? Visit the ' +\n",
              "            '<a target=\"_blank\" href=https://colab.research.google.com/notebooks/data_table.ipynb>data table notebook</a>'\n",
              "            + ' to learn more about interactive tables.';\n",
              "          element.innerHTML = '';\n",
              "          dataTable['output_type'] = 'display_data';\n",
              "          await google.colab.output.renderOutput(dataTable, element);\n",
              "          const docLink = document.createElement('div');\n",
              "          docLink.innerHTML = docLinkHtml;\n",
              "          element.appendChild(docLink);\n",
              "        }\n",
              "      </script>\n",
              "    </div>\n",
              "  </div>\n",
              "  "
            ]
          },
          "metadata": {},
          "execution_count": 32
        }
      ]
    },
    {
      "cell_type": "code",
      "source": [
        "df['armed'].value_counts().plot(kind='pie', figsize=(6,6))"
      ],
      "metadata": {
        "colab": {
          "base_uri": "https://localhost:8080/",
          "height": 374
        },
        "id": "tqsM5BohFCH9",
        "outputId": "cc17d5c0-dcce-45f2-9c5d-02a28b29aac2"
      },
      "execution_count": null,
      "outputs": [
        {
          "output_type": "execute_result",
          "data": {
            "text/plain": [
              "<matplotlib.axes._subplots.AxesSubplot at 0x7f7a5c75e510>"
            ]
          },
          "metadata": {},
          "execution_count": 34
        },
        {
          "output_type": "display_data",
          "data": {
            "text/plain": [
              "<Figure size 432x432 with 1 Axes>"
            ],
            "image/png": "[encoded data removed]"
          },
          "metadata": {}
        }
      ]
    },
    {
      "cell_type": "code",
      "source": [
        "df['armed'].value_counts('No')"
      ],
      "metadata": {
        "colab": {
          "base_uri": "https://localhost:8080/"
        },
        "id": "A17T8S-6Rrw6",
        "outputId": "2457821f-7d9a-4dba-f29c-ed96e5870747"
      },
      "execution_count": null,
      "outputs": [
        {
          "output_type": "execute_result",
          "data": {
            "text/plain": [
              "Firearm               0.462946\n",
              "No                    0.155535\n",
              "Knife                 0.145471\n",
              "Other                 0.076853\n",
              "Unknown               0.075023\n",
              "Non-lethal firearm    0.042086\n",
              "Vehicle               0.032022\n",
              "Disputed              0.010064\n",
              "Name: armed, dtype: float64"
            ]
          },
          "metadata": {},
          "execution_count": 36
        }
      ]
    },
    {
      "cell_type": "code",
      "source": [
        ""
      ],
      "metadata": {
        "id": "XDUieVdEN6th"
      },
      "execution_count": null,
      "outputs": []
    },
    {
      "cell_type": "markdown",
      "source": [
        "![purple-divider](https://user-images.githubusercontent.com/7065401/52071927-c1cd7100-2562-11e9-908a-dde91ba14e59.png)\n",
        "\n",
        "## Group by ethnicity\n"
      ],
      "metadata": {
        "id": "-tuWgqtn-3bC"
      }
    },
    {
      "cell_type": "code",
      "source": [
        "df['raceethnicity'].value_counts()\n"
      ],
      "metadata": {
        "colab": {
          "base_uri": "https://localhost:8080/"
        },
        "id": "xNE42vXuOB_5",
        "outputId": "91d5f246-4b0a-49d6-c184-447ffc0d9541"
      },
      "execution_count": null,
      "outputs": [
        {
          "output_type": "execute_result",
          "data": {
            "text/plain": [
              "White                     574\n",
              "Black                     266\n",
              "Hispanic/Latino           183\n",
              "Native American            24\n",
              "Unknown                    22\n",
              "Asian/Pacific Islander     21\n",
              "Arab-American               3\n",
              "Name: raceethnicity, dtype: int64"
            ]
          },
          "metadata": {},
          "execution_count": 37
        }
      ]
    },
    {
      "cell_type": "code",
      "source": [
        "df['raceethnicity'].value_counts().plot(kind='bar', title=('Victim Ethnicity'), figsize=(14,5))"
      ],
      "metadata": {
        "colab": {
          "base_uri": "https://localhost:8080/",
          "height": 449
        },
        "id": "avm0nd8PMQ9M",
        "outputId": "f4de80f5-f2fb-418d-9563-6983e0e04e45"
      },
      "execution_count": null,
      "outputs": [
        {
          "output_type": "execute_result",
          "data": {
            "text/plain": [
              "<matplotlib.axes._subplots.AxesSubplot at 0x7f7a5c6d5310>"
            ]
          },
          "metadata": {},
          "execution_count": 38
        },
        {
          "output_type": "display_data",
          "data": {
            "text/plain": [
              "<Figure size 1008x360 with 1 Axes>"
            ],
            "image/png": "[encoded data removed]"
          },
          "metadata": {
            "needs_background": "light"
          }
        }
      ]
    },
    {
      "cell_type": "markdown",
      "source": [
        "![purple-divider](https://user-images.githubusercontent.com/7065401/52071927-c1cd7100-2562-11e9-908a-dde91ba14e59.png)\n",
        "\n",
        "## Group by Gender"
      ],
      "metadata": {
        "id": "k2876nFj-3gq"
      }
    },
    {
      "cell_type": "code",
      "source": [
        "df['gender'].value_counts()"
      ],
      "metadata": {
        "colab": {
          "base_uri": "https://localhost:8080/"
        },
        "id": "ZbVKyiluKvpl",
        "outputId": "8b64564c-daaa-458a-b60f-cab060228937"
      },
      "execution_count": null,
      "outputs": [
        {
          "output_type": "execute_result",
          "data": {
            "text/plain": [
              "Male      1031\n",
              "Female      62\n",
              "Name: gender, dtype: int64"
            ]
          },
          "metadata": {},
          "execution_count": 39
        }
      ]
    },
    {
      "cell_type": "code",
      "source": [
        "df['gender'].value_counts().plot(kind='pie', title=('Gender'), figsize=(6,6))"
      ],
      "metadata": {
        "colab": {
          "base_uri": "https://localhost:8080/",
          "height": 390
        },
        "id": "5qiHtqE-K0gr",
        "outputId": "657f5545-1c4c-48c6-fe3b-f0484e234fd7"
      },
      "execution_count": null,
      "outputs": [
        {
          "output_type": "execute_result",
          "data": {
            "text/plain": [
              "<matplotlib.axes._subplots.AxesSubplot at 0x7f7a5c6ab710>"
            ]
          },
          "metadata": {},
          "execution_count": 40
        },
        {
          "output_type": "display_data",
          "data": {
            "text/plain": [
              "<Figure size 432x432 with 1 Axes>"
            ],
            "image/png": "[encoded data removed]"
          },
          "metadata": {}
        }
      ]
    },
    {
      "cell_type": "markdown",
      "source": [
        "![purple-divider](https://user-images.githubusercontent.com/7065401/52071927-c1cd7100-2562-11e9-908a-dde91ba14e59.png)\n",
        "\n",
        "## Group by Age"
      ],
      "metadata": {
        "id": "EJM1ED3I-yCC"
      }
    },
    {
      "cell_type": "code",
      "source": [
        "df['age'].value_counts()"
      ],
      "metadata": {
        "colab": {
          "base_uri": "https://localhost:8080/"
        },
        "id": "4ZEjb89FNI6L",
        "outputId": "367b355f-b72b-4acd-9701-7cf7468332a7"
      },
      "execution_count": null,
      "outputs": [
        {
          "output_type": "execute_result",
          "data": {
            "text/plain": [
              "25    49\n",
              "31    45\n",
              "38    45\n",
              "30    43\n",
              "36    41\n",
              "      ..\n",
              "13     1\n",
              "3      1\n",
              "84     1\n",
              "87     1\n",
              "83     1\n",
              "Name: age, Length: 71, dtype: int64"
            ]
          },
          "metadata": {},
          "execution_count": 41
        }
      ]
    },
    {
      "cell_type": "code",
      "source": [
        "df['age'].min()"
      ],
      "metadata": {
        "colab": {
          "base_uri": "https://localhost:8080/"
        },
        "id": "2C0wWigUUEKi",
        "outputId": "97ad686d-7bd6-485b-9218-6d7be8191c87"
      },
      "execution_count": null,
      "outputs": [
        {
          "output_type": "execute_result",
          "data": {
            "text/plain": [
              "3"
            ]
          },
          "metadata": {},
          "execution_count": 47
        }
      ]
    },
    {
      "cell_type": "code",
      "source": [
        "df['age'].mean()"
      ],
      "metadata": {
        "colab": {
          "base_uri": "https://localhost:8080/"
        },
        "id": "yWtZuf8lRsVs",
        "outputId": "efe8c577-1aea-41e8-cc3f-5f43ab8c64fd"
      },
      "execution_count": null,
      "outputs": [
        {
          "output_type": "execute_result",
          "data": {
            "text/plain": [
              "36.755718206770354"
            ]
          },
          "metadata": {},
          "execution_count": 42
        }
      ]
    },
    {
      "cell_type": "code",
      "source": [
        "df['age'].describe()"
      ],
      "metadata": {
        "colab": {
          "base_uri": "https://localhost:8080/"
        },
        "id": "523bfKXlTD3I",
        "outputId": "30aab3b9-d44f-4660-d7ad-f449eda7cd22"
      },
      "execution_count": null,
      "outputs": [
        {
          "output_type": "execute_result",
          "data": {
            "text/plain": [
              "count    1093.000000\n",
              "mean       36.755718\n",
              "std        13.109142\n",
              "min         3.000000\n",
              "25%        27.000000\n",
              "50%        35.000000\n",
              "75%        45.000000\n",
              "max        87.000000\n",
              "Name: age, dtype: float64"
            ]
          },
          "metadata": {},
          "execution_count": 43
        }
      ]
    },
    {
      "cell_type": "markdown",
      "source": [
        "![purple-divider](https://user-images.githubusercontent.com/7065401/52071927-c1cd7100-2562-11e9-908a-dde91ba14e59.png)\n",
        "\n"
      ],
      "metadata": {
        "id": "3XomNwHQ-yJr"
      }
    }
  ]
}